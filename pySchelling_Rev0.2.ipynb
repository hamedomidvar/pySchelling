{
 "cells": [
  {
   "cell_type": "markdown",
   "metadata": {},
   "source": [
    "# Schelling Segregation"
   ]
  },
  {
   "cell_type": "markdown",
   "metadata": {},
   "source": [
    "Here we have written a code for simulations of Schelling segregation models. Each agent is an object which is able to have different attributes. This object oriented approach gives us freedom to more easily simulate more realistic models. \n",
    "\n",
    "For starters we consider a model in which each agent has its own intolerance level for the ratio of agents around it. We assume that the intolerance level is according to a uniform distribution where we only indicate the minimum and maximum of it. "
   ]
  },
  {
   "cell_type": "code",
   "execution_count": 10,
   "metadata": {},
   "outputs": [],
   "source": [
    "##########################################################################\n",
    "####### Schelling Segregation and More Advanced Models Using Python ######\n",
    "####### Author: Hamed Omidvar - Date: Aug. 2015 ##########################\n",
    "####### University of California - San Diego #############################\n",
    "##########################################################################\n",
    "\n",
    "import numpy as np\n",
    "import matplotlib.pyplot as plt\n",
    "import matplotlib.animation as animation\n",
    "%matplotlib inline\n",
    "\n",
    "\n",
    "## Initial settings\n",
    "N = 100 # Size of the side of the grid\n",
    "w = 1 # Maximum L_inf distance for the neighborhood\n",
    "type_dist = 0.5 # Distribution of the two types\n",
    "# The intolerance level of each agent is chosen uniformly at random \n",
    "# The min and max value for the uniform distribution is as follows:\n",
    "intolerance_max = 0.45 # Maximum intolerance level\n",
    "intolerance_min = 0.45 # Minimum intolerance level"
   ]
  },
  {
   "cell_type": "code",
   "execution_count": 11,
   "metadata": {},
   "outputs": [],
   "source": [
    "## Agent Class: \n",
    "# Each agent is now an object\n",
    "# This gives us freedom to have more advanced models as we wish\n",
    "# The downside is the slower algortithm time\n",
    "\n",
    "class Agent:\n",
    "    # The following variables are shared by all instances of this class\n",
    "    acount = 0 # number of agents\n",
    "    map_array = np.zeros((N,N),dtype=bool) # the map of current agent locations\n",
    "    unhappy_agents_type_a = [] # list of unhappy agents of type a\n",
    "    unhappy_agents_type_b = [] # list of unhappy agents of type b\n",
    "    unhappy_count = 0 \n",
    "\n",
    "    # list of randomely chosen unhappy agents for swap of each type\n",
    "    # TODO: consider the consequences of not doing an update on all agents frequently\n",
    "    all_rand_a = np.array([]) \n",
    "    all_rand_b = np.array([]) \n",
    "    exhaust = N\n",
    "    \n",
    "    # The constructor function \n",
    "    def __init__(self,x,y,atype,intolerance):\n",
    "        # Coordinates\n",
    "        self.x = x\n",
    "        self.y = y\n",
    "        # Agent Type: a: True, b: False\n",
    "        self.atype = atype\n",
    "        # Agent's intolerance\n",
    "        self.intolerance = intolerance\n",
    "        # Happy?\n",
    "        self.happy = False\n",
    "        Agent.acount += 1\n",
    "     \n",
    "    # This method gives us the number of agents\n",
    "    def display_count(self):\n",
    "        print \"Agent Count: \", Agent.acount\n",
    "\n",
    "    # This method gives us information about a specific agent\n",
    "    def display_agent(self):\n",
    "        print \"x,y : \", self.x,\",\",self.y,  \", Type: \", self.atype, \\\n",
    "        \", Happy?\", self.happy, \", Intolerance:\", self.intolerance\n",
    "        \n",
    "    def will_be_happy(self,x_,y_,map_array,w,N):\n",
    "        same_count = self.get_same_count(x_,y_,self.atype)\n",
    "        same_count += 1 #Assumption: We will only swap opposite types\n",
    "        return bool(same_count/float((2*w+1)**2) >= self.intolerance)\n",
    "    \n",
    "    def update_happiness(self,w,N):\n",
    "        same_count = self.get_same_count(self.x,self.y,self.atype)\n",
    "        self.happy = (same_count/float((2*w+1)**2) >= self.intolerance)\n",
    "        return self.happy\n",
    "    \n",
    "    def get_same_count(self,x_,y_,s_type):\n",
    "        same_count = 0\n",
    "        for i in range(-w,w+1):\n",
    "            for j in range(-w,w+1):\n",
    "                same_type = int(Agent.map_array[(x_+i)%N,(y_+j)%N] == s_type)\n",
    "                same_count += same_type\n",
    "        return same_count\n"
   ]
  },
  {
   "cell_type": "code",
   "execution_count": 12,
   "metadata": {},
   "outputs": [],
   "source": [
    "agents = []\n",
    "def init(intolerance_min,intolerance_max):\n",
    "    for x in range(N):\n",
    "        for y in range(N):\n",
    "            rand_type = bool(np.random.binomial(1,type_dist))\n",
    "            Agent.map_array[x,y] = rand_type\n",
    "            intolerance = np.random.uniform(intolerance_min,intolerance_max)\n",
    "            agents.append(Agent(x,y,rand_type,intolerance))\n",
    "\n",
    "      \n",
    "    \n",
    "def update():\n",
    "    unhappy_count = 0\n",
    "    for ag in agents:\n",
    "        ag.update_happiness(w,N)\n",
    "        if not ag.happy:\n",
    "            unhappy_count += 1\n",
    "            if ag.atype:\n",
    "                Agent.unhappy_agents_type_a.append(ag)\n",
    "            else:\n",
    "                Agent.unhappy_agents_type_b.append(ag)\n",
    "    return unhappy_count            \n",
    "\n",
    "\n",
    "## Swapping Unhappy Agents\n",
    "# The following function does a single swap for a pair of unhappy agents\n",
    "def single_swap():\n",
    "    if len(Agent.unhappy_agents_type_a) == 0 or \\\n",
    "        len(Agent.unhappy_agents_type_b) == 0: return False\n",
    "    rand_a = np.random.randint(len(Agent.unhappy_agents_type_a))\n",
    "    rand_b = np.random.randint(len(Agent.unhappy_agents_type_b))\n",
    "    count = 0\n",
    "    while np.size(np.where(Agent.all_rand_a == rand_a))>0:\n",
    "        count+=1\n",
    "        rand_a = np.random.randint(len(Agent.unhappy_agents_type_a))\n",
    "        if count > exhaust: break\n",
    "            \n",
    "    while np.size(np.where(Agent.all_rand_b == rand_b))>0:\n",
    "        count+=1\n",
    "        rand_b = np.random.randint(len(unhappy_agents_type_b))\n",
    "        if count > exhaust: break        \n",
    "\n",
    "    if Agent.unhappy_agents_type_a[rand_a].update_happiness(w,N) or \\\n",
    "        Agent.unhappy_agents_type_b[rand_b].update_happiness(w,N):\n",
    "            #print \"I was not expecting this!\"\n",
    "            return False\n",
    "    \n",
    "    x_a = Agent.unhappy_agents_type_a[rand_a].x\n",
    "    y_a = Agent.unhappy_agents_type_a[rand_a].y\n",
    "    x_b = Agent.unhappy_agents_type_b[rand_b].x\n",
    "    y_b = Agent.unhappy_agents_type_b[rand_b].y\n",
    "    if Agent.unhappy_agents_type_a[rand_a].will_be_happy(x_b,y_b,Agent.map_array,w,N) and \\\n",
    "        Agent.unhappy_agents_type_b[rand_b].will_be_happy(x_a,y_a,Agent.map_array,w,N):\n",
    "        Agent.unhappy_agents_type_a[rand_a].x = x_b\n",
    "        Agent.unhappy_agents_type_a[rand_a].y = y_b\n",
    "        Agent.map_array[x_b,y_b] = True\n",
    "        Agent.unhappy_agents_type_a[rand_a].happy = True\n",
    "        \n",
    "        Agent.unhappy_agents_type_b[rand_b].x = x_a\n",
    "        Agent.unhappy_agents_type_b[rand_b].y = y_a\n",
    "        Agent.map_array[x_a,y_a] = False\n",
    "        Agent.unhappy_agents_type_b[rand_b].happy = True\n",
    "\n",
    "        np.append(Agent.all_rand_a,rand_a)\n",
    "        np.append(Agent.all_rand_b,rand_b)\n",
    "        return True\n",
    "    return False\n",
    "    \n",
    "    "
   ]
  },
  {
   "cell_type": "code",
   "execution_count": null,
   "metadata": {},
   "outputs": [],
   "source": []
  },
  {
   "cell_type": "code",
   "execution_count": 13,
   "metadata": {},
   "outputs": [
    {
     "data": {
      "image/png": "[encoded data removed]",
      "text/plain": [
       "<Figure size 432x432 with 1 Axes>"
      ]
     },
     "metadata": {},
     "output_type": "display_data"
    },
    {
     "name": "stdout",
     "output_type": "stream",
     "text": [
      "Unhappy:  3593\n"
     ]
    },
    {
     "data": {
      "text/plain": [
       "<matplotlib.image.AxesImage at 0x7fbb977b0b90>"
      ]
     },
     "execution_count": 13,
     "metadata": {},
     "output_type": "execute_result"
    },
    {
     "data": {
      "image/png": "[encoded data removed]",
      "text/plain": [
       "<Figure size 432x432 with 1 Axes>"
      ]
     },
     "metadata": {},
     "output_type": "display_data"
    },
    {
     "data": {
      "image/png": "[encoded data removed]",
      "text/plain": [
       "<Figure size 432x432 with 1 Axes>"
      ]
     },
     "metadata": {},
     "output_type": "display_data"
    }
   ],
   "source": [
    "### MAIN:\n",
    "# Initializing:\n",
    "init(intolerance_min,intolerance_max)\n",
    "\n",
    "\n",
    "### Initial Config Plot\n",
    "axs = []\n",
    "\n",
    "fig2 = plt.figure(figsize = (6,6)) # create a 5 x 5 figure \n",
    "axs.append(fig2.add_subplot(111)) \n",
    "axs[len(axs)-1].imshow(Agent.map_array, interpolation='none', cmap='Greys')\n",
    "\n",
    "plt.show()\n",
    "\n",
    "#### END plot\n",
    "\n",
    "print \"Unhappy: \" , update()\n",
    "\n",
    "\n",
    "fig = plt.figure(figsize = (6,6))\n",
    "ax = plt.axes()\n",
    "\n",
    "# Clear the canvas\n",
    "def init_anim():\n",
    "    return ax,\n",
    "\n",
    "\n",
    "# The animation is made of the frames made in the following function\n",
    "def animate(i):\n",
    "    ax.imshow(Agent.map_array, interpolation='none', cmap='Greys')\n",
    "    swap_count = 0\n",
    "    for i in range(N**2/10):\n",
    "        if single_swap(): swap_count += 1\n",
    "    #print \"swap_count: \" , swap_count\n",
    "    Agent.unhappy_agents_type_a = []\n",
    "    Agent.unhappy_agents_type_b = []\n",
    "    Agent.unhappy_count = 0\n",
    "\n",
    "    Agent.all_rand_a = np.array([])\n",
    "    Agent.all_rand_b = np.array([])\n",
    "    Agent.exhaust = N\n",
    "    update();\n",
    "    #print \"Unhappy: \", update()\n",
    "    return ax,\n",
    "\n",
    "\n",
    "# The following command actually starts the process\n",
    "# Frames indicates the number of iteration\n",
    "# TODO: Think of a way of defining a stopping criteria\n",
    "anim = animation.FuncAnimation(fig, animate, init_func=init_anim,\n",
    "                               frames=80, interval=500, blit=True)\n",
    "\n",
    "# The following line, saves the animation an MPEG file.\n",
    "anim.save('N_' + str(N) + '_min' + str(intolerance_min)+ \\\n",
    "          '_max_'+ str(intolerance_max)  + '.mp4'\\\n",
    "          ,fps=5,dpi=100)\n",
    "\n",
    "\n",
    "\n",
    "### Final Config Plot\n",
    "axs = []\n",
    "\n",
    "fig2 = plt.figure(figsize = (6,6)) # create a 5 x 5 figure \n",
    "axs.append(fig2.add_subplot(111)) \n",
    "axs[len(axs)-1].imshow(Agent.map_array, interpolation='none', cmap='Greys')\n",
    "\n",
    "###"
   ]
  },
  {
   "cell_type": "code",
   "execution_count": null,
   "metadata": {},
   "outputs": [],
   "source": []
  },
  {
   "cell_type": "code",
   "execution_count": null,
   "metadata": {},
   "outputs": [],
   "source": []
  },
  {
   "cell_type": "code",
   "execution_count": null,
   "metadata": {},
   "outputs": [],
   "source": []
  }
 ],
 "metadata": {
  "kernelspec": {
   "display_name": "Python 2",
   "language": "python",
   "name": "python2"
  },
  "language_info": {
   "codemirror_mode": {
    "name": "ipython",
    "version": 2
   },
   "file_extension": ".py",
   "mimetype": "text/x-python",
   "name": "python",
   "nbconvert_exporter": "python",
   "pygments_lexer": "ipython2",
   "version": "2.7.12"
  }
 },
 "nbformat": 4,
 "nbformat_minor": 1
}
